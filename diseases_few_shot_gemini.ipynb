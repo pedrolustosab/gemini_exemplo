{
  "nbformat": 4,
  "nbformat_minor": 0,
  "metadata": {
    "colab": {
      "provenance": [],
      "authorship_tag": "ABX9TyPgE1PfCDugiiH0gHzIQsNo",
      "include_colab_link": true
    },
    "kernelspec": {
      "name": "python3",
      "display_name": "Python 3"
    },
    "language_info": {
      "name": "python"
    }
  },
  "cells": [
    {
      "cell_type": "markdown",
      "metadata": {
        "id": "view-in-github",
        "colab_type": "text"
      },
      "source": [
        "<a href=\"https://colab.research.google.com/github/pedrolustosab/gemini_exemplo/blob/main/diseases_few_shot_gemini.ipynb\" target=\"_parent\"><img src=\"https://colab.research.google.com/assets/colab-badge.svg\" alt=\"Open In Colab\"/></a>"
      ]
    },
    {
      "cell_type": "code",
      "source": [
        "import google.generativeai as genai\n",
        "from google.colab import userdata\n",
        "GOOGLE_API_KEY = userdata.get('API_KEY')\n",
        "genai.configure(api_key=GOOGLE_API_KEY)"
      ],
      "metadata": {
        "id": "G89h8TCta0if"
      },
      "execution_count": 1,
      "outputs": []
    },
    {
      "cell_type": "code",
      "source": [
        "generation_config = {\n",
        "  \"temperature\": 0.3,\n",
        "}\n",
        "\n",
        "safety_settings={\n",
        "    'HATE': 'BLOCK_NONE',\n",
        "    'HARASSMENT': 'BLOCK_NONE',\n",
        "    'SEXUAL' : 'BLOCK_NONE',\n",
        "    'DANGEROUS' : 'BLOCK_NONE'\n",
        "    }\n",
        "\n",
        "instruction = \"\"\"You are an expert medical professional, equipped with comprehensive knowledge of human diseases and their symptoms\n",
        "You create correct and simple symptoms list that is easy to understand.\n",
        "Without title\n",
        "Without comments\n",
        "\"\"\"\n",
        "\n",
        "model = genai.GenerativeModel(model_name=\"gemini-1.5-pro\",\n",
        "                              generation_config=generation_config,\n",
        "                              safety_settings=safety_settings,\n",
        "                              system_instruction=instruction)"
      ],
      "metadata": {
        "id": "XrG9gSqoa5MO"
      },
      "execution_count": 2,
      "outputs": []
    },
    {
      "cell_type": "code",
      "execution_count": 3,
      "metadata": {
        "id": "JfgLOHqkayAR"
      },
      "outputs": [],
      "source": [
        "few_shot = [\n",
        "  \"input: HIV\",\n",
        "  \"output: Fever, Chills, Rash, Night sweats (heavy sweating during sleep), Muscle aches, Sore throat, Fatigue, Swollen lymph nodes, Mouth ulcers\",\n",
        "  \"input: Acute Flaccid Myelitis\",\n",
        "  \"output: Arm or leg weakness, A loss of muscle tone and reflexes, Facial drooping/weakness, Trouble moving the eyes, Drooping eyelids, Trouble swallowing, Slurred speech, Pain in the arms, legs, back, or neck\",\n",
        "]\n",
        "\n"
      ]
    },
    {
      "cell_type": "code",
      "source": [
        "new_input = 'input: Meningitis'\n",
        "new_output = 'output:'\n",
        "few_shot.append(new_input)\n",
        "few_shot.append(new_output)"
      ],
      "metadata": {
        "id": "T5PZ4OkohKqa"
      },
      "execution_count": 4,
      "outputs": []
    },
    {
      "cell_type": "code",
      "source": [
        "response = model.generate_content(few_shot)\n",
        "print(response.text)"
      ],
      "metadata": {
        "colab": {
          "base_uri": "https://localhost:8080/",
          "height": 34
        },
        "id": "QkV3L3gYiBjc",
        "outputId": "22f63eb9-1153-468f-cb88-e70ab3c56745"
      },
      "execution_count": 5,
      "outputs": [
        {
          "output_type": "stream",
          "name": "stdout",
          "text": [
            "Fever, Headache, Stiff neck, Nausea, Vomiting, Confusion, Sensitivity to light, Sleepiness or difficulty waking up, Seizures\n"
          ]
        }
      ]
    }
  ]
}