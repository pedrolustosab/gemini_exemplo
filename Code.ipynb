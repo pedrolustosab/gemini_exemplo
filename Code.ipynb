{
  "nbformat": 4,
  "nbformat_minor": 0,
  "metadata": {
    "colab": {
      "provenance": [],
      "authorship_tag": "ABX9TyPz3fqPhu2IbMVTjirJ5Pig",
      "include_colab_link": true
    },
    "kernelspec": {
      "name": "python3",
      "display_name": "Python 3"
    },
    "language_info": {
      "name": "python"
    }
  },
  "cells": [
    {
      "cell_type": "markdown",
      "metadata": {
        "id": "view-in-github",
        "colab_type": "text"
      },
      "source": [
        "<a href=\"https://colab.research.google.com/github/pedrolustosab/gemini_exemplo/blob/main/Code.ipynb\" target=\"_parent\"><img src=\"https://colab.research.google.com/assets/colab-badge.svg\" alt=\"Open In Colab\"/></a>"
      ]
    },
    {
      "cell_type": "code",
      "execution_count": 1,
      "metadata": {
        "id": "5HsnPP9VLCC8"
      },
      "outputs": [],
      "source": [
        "#Configurações iniciais\n",
        "import google.generativeai as genai\n",
        "from google.colab import userdata\n",
        "GOOGLE_API_KEY = userdata.get('API_KEY')\n",
        "genai.configure(api_key=GOOGLE_API_KEY)"
      ]
    },
    {
      "cell_type": "code",
      "source": [
        "instruction = \"\"\"You are a coding expert that specializes in creating web pages based on a user request.\n",
        "You create correct and simple code that is easy to understand.\n",
        "You implement all the functionality requested by the user.\n",
        "You ensure your code works properly, and you follow best practices for HTML programming.\"\"\""
      ],
      "metadata": {
        "id": "RHVsdJnyLTgB"
      },
      "execution_count": 2,
      "outputs": []
    },
    {
      "cell_type": "code",
      "source": [
        "prompt = \"\"\"Create a web app called Opossum Search:\n",
        "1. Every time you make a search query, it should redirect you to a Google search\n",
        "with the same query, but with the word opossum before it.\n",
        "2. It should be visually similar to Google search.\n",
        "3. Instead of the google logo, it should have a picture of this opossum: https://upload.wikimedia.org/wikipedia/commons/thumb/2/27/Opossum_2.jpg/292px-Opossum_2.jpg.\n",
        "4. It should be a single HTML file, with no separate JS or CSS files.\n",
        "5. It should say Powered by opossum search in the footer.\n",
        "6. Do not use any unicode characters.\n",
        "Thank you!\"\"\""
      ],
      "metadata": {
        "id": "y8z-sN4aLY73"
      },
      "execution_count": 3,
      "outputs": []
    },
    {
      "cell_type": "code",
      "source": [
        "model = genai.GenerativeModel(\"gemini-1.5-pro-latest\", system_instruction=instruction)\n",
        "response = model.generate_content(prompt)\n",
        "print(response.text)\n",
        ""
      ],
      "metadata": {
        "colab": {
          "base_uri": "https://localhost:8080/",
          "height": 1000
        },
        "id": "Cc9oQ3m1LbIl",
        "outputId": "eb351868-91f7-4346-b503-10659cd8d04d"
      },
      "execution_count": 4,
      "outputs": [
        {
          "output_type": "stream",
          "name": "stdout",
          "text": [
            "<!DOCTYPE html>\n",
            "<html lang=\"en\">\n",
            "<head>\n",
            "    <meta charset=\"UTF-8\">\n",
            "    <meta name=\"viewport\" content=\"width=device-width, initial-scale=1.0\">\n",
            "    <title>Opossum Search</title>\n",
            "    <style>\n",
            "        body {\n",
            "            margin: 0;\n",
            "            padding: 0;\n",
            "            font-family: Arial, sans-serif;\n",
            "        }\n",
            "\n",
            "        .container {\n",
            "            display: flex;\n",
            "            flex-direction: column;\n",
            "            align-items: center;\n",
            "            justify-content: center;\n",
            "            height: 100vh;\n",
            "        }\n",
            "\n",
            "        img {\n",
            "            width: 272px;\n",
            "            height: auto;\n",
            "        }\n",
            "\n",
            "        form {\n",
            "            margin-top: 20px;\n",
            "            display: flex;\n",
            "        }\n",
            "\n",
            "        input[type=\"text\"] {\n",
            "            padding: 10px;\n",
            "            font-size: 16px;\n",
            "            border: 1px solid #ccc;\n",
            "            border-radius: 5px 0 0 5px;\n",
            "            width: 400px;\n",
            "        }\n",
            "\n",
            "        button {\n",
            "            padding: 10px;\n",
            "            font-size: 16px;\n",
            "            background-color: #f8f9fa;\n",
            "            border: 1px solid #ccc;\n",
            "            border-radius: 0 5px 5px 0;\n",
            "            cursor: pointer;\n",
            "        }\n",
            "\n",
            "        footer {\n",
            "            position: fixed;\n",
            "            bottom: 0;\n",
            "            left: 0;\n",
            "            right: 0;\n",
            "            background-color: #f8f9fa;\n",
            "            padding: 10px;\n",
            "            text-align: center;\n",
            "            font-size: 14px;\n",
            "        }\n",
            "    </style>\n",
            "</head>\n",
            "<body>\n",
            "    <div class=\"container\">\n",
            "        <img src=\"https://upload.wikimedia.org/wikipedia/commons/thumb/2/27/Opossum_2.jpg/292px-Opossum_2.jpg\" alt=\"Opossum\">\n",
            "        <form method=\"GET\" action=\"https://www.google.com/search\">\n",
            "            <input type=\"text\" name=\"q\" placeholder=\"Search the web with Opossum\">\n",
            "            <button type=\"submit\">Search</button>\n",
            "        </form>\n",
            "    </div>\n",
            "    <footer>\n",
            "        Powered by opossum search\n",
            "    </footer>\n",
            "</body>\n",
            "</html>\n",
            "\n"
          ]
        }
      ]
    }
  ]
}