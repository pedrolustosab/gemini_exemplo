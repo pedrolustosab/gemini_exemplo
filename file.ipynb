{
  "nbformat": 4,
  "nbformat_minor": 0,
  "metadata": {
    "colab": {
      "provenance": [],
      "authorship_tag": "ABX9TyPkSQu+lABp/NLZQy9NBPJk",
      "include_colab_link": true
    },
    "kernelspec": {
      "name": "python3",
      "display_name": "Python 3"
    },
    "language_info": {
      "name": "python"
    }
  },
  "cells": [
    {
      "cell_type": "markdown",
      "metadata": {
        "id": "view-in-github",
        "colab_type": "text"
      },
      "source": [
        "<a href=\"https://colab.research.google.com/github/pedrolustosab/gemini_exemplo/blob/main/file.ipynb\" target=\"_parent\"><img src=\"https://colab.research.google.com/assets/colab-badge.svg\" alt=\"Open In Colab\"/></a>"
      ]
    },
    {
      "cell_type": "code",
      "execution_count": 3,
      "metadata": {
        "id": "c8AR0v0kJbKX"
      },
      "outputs": [],
      "source": [
        "#Configurações iniciais\n",
        "import google.generativeai as genai\n",
        "from google.colab import userdata\n",
        "GOOGLE_API_KEY = userdata.get('API_KEY')\n",
        "genai.configure(api_key=GOOGLE_API_KEY)\n",
        ""
      ]
    },
    {
      "cell_type": "code",
      "source": [
        "!wget https://storage.googleapis.com/generativeai-downloads/data/a11.txt"
      ],
      "metadata": {
        "colab": {
          "base_uri": "https://localhost:8080/"
        },
        "id": "LeJNPz0yJzCo",
        "outputId": "334ee7a1-8082-43dc-d65c-a094bd4bf4ad"
      },
      "execution_count": 4,
      "outputs": [
        {
          "output_type": "stream",
          "name": "stdout",
          "text": [
            "--2024-05-25 23:48:02--  https://storage.googleapis.com/generativeai-downloads/data/a11.txt\n",
            "Resolving storage.googleapis.com (storage.googleapis.com)... 173.194.216.207, 173.194.217.207, 108.177.12.207, ...\n",
            "Connecting to storage.googleapis.com (storage.googleapis.com)|173.194.216.207|:443... connected.\n",
            "HTTP request sent, awaiting response... 200 OK\n",
            "Length: 847790 (828K) [text/plain]\n",
            "Saving to: ‘a11.txt’\n",
            "\n",
            "\ra11.txt               0%[                    ]       0  --.-KB/s               \ra11.txt             100%[===================>] 827.92K  --.-KB/s    in 0.007s  \n",
            "\n",
            "2024-05-25 23:48:02 (117 MB/s) - ‘a11.txt’ saved [847790/847790]\n",
            "\n"
          ]
        }
      ]
    },
    {
      "cell_type": "code",
      "source": [
        "text_file_name = \"a11.txt\"\n",
        "text_file = genai.upload_file(path=text_file_name)\n"
      ],
      "metadata": {
        "id": "7_vsuiozJ-8K"
      },
      "execution_count": 5,
      "outputs": []
    },
    {
      "cell_type": "code",
      "source": [
        "prompt = \"Find four lighthearted moments in this text file.\"\n",
        "model = genai.GenerativeModel(model_name=\"models/gemini-1.5-pro-latest\")\n",
        "response = model.generate_content([prompt, text_file],\n",
        "                                  request_options={\"timeout\": 600})\n",
        "print(response.text)"
      ],
      "metadata": {
        "colab": {
          "base_uri": "https://localhost:8080/",
          "height": 211
        },
        "id": "jiGi7Xv1KNje",
        "outputId": "42ffdccb-51cf-4984-f5af-2f5034770c90"
      },
      "execution_count": 6,
      "outputs": [
        {
          "output_type": "stream",
          "name": "stdout",
          "text": [
            "While this document is primarily technical, there are a few moments of levity sprinkled throughout:\n",
            "\n",
            "1. **00 00 03 36 CDR: Yes. They finally gave me a window to look out.** Armstrong's dry humor about finally being able to see out of the spacecraft adds a lighthearted touch to the otherwise technical launch sequence.\n",
            "\n",
            "2. **00 00 54 22 CMP: Yes. He lucked out. He doesn't owe me a cup of coffee.** Collins' joke about winning a bet with Glenn Parker over the weather conditions adds a personal and amusing touch to the data reporting.\n",
            "\n",
            "3. **01 03 23 00 CC: (Laughing.) A lot of gray paint.** The capsule communicator's response to Aldrin's question about the Navy term for the sun's reflection on the ocean adds a lighthearted moment of shared laughter.\n",
            "\n",
            "4. **04 08 04 14 CC: Copy.** The succinct \"Copy\" from the capsule communicator after Collins offers to bet a cup of coffee on the accuracy of his observation regarding the reticle adds to the humor of the situation. This shows the communicator acknowledging the bet without explicitly accepting or rejecting it. \n",
            "\n"
          ]
        }
      ]
    }
  ]
}